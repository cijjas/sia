{
 "cells": [
  {
   "cell_type": "markdown",
   "metadata": {},
   "source": [
    "Análisis de las distancias promedio entre neuronas vecinas"
   ]
  },
  {
   "cell_type": "markdown",
   "metadata": {},
   "source": [
    "Comenzamos leyendo los datos del archivo csv que se utilizará para entrenar la red. Estos se encuentran en el archivo \"europe.csv\".\n",
    "Además, contamos con un archivo de configuración \"kohonen_2.json\" que contiene los parámetros de la red de Kohonen que se utilizará para el análisis."
   ]
  },
  {
   "cell_type": "code",
   "execution_count": 7,
   "id": "01J9WBTKVWGD7ETPFNBR6WMX2V",
   "metadata": {},
   "outputs": [],
   "source": [
    "from sklearn.preprocessing import StandardScaler\n",
    "import pandas as pd\n",
    "import json\n",
    "from core.kohonen import Kohonen\n",
    "\n",
    "config_file = \"../configs/kohonen_2.json\"\n",
    "\n",
    "with open(config_file) as f:\n",
    "    config = json.load(f)\n",
    "\n",
    "europe_data = pd.read_csv(config['data']['source'])\n",
    "df = europe_data[config['data']['features']]\n",
    "scaler = StandardScaler()\n",
    "data = scaler.fit_transform(df.values) # we need to scale the data\n",
    "#print(data.shape) # we've got 28 elements with 7 features\n",
    "#print(data)\n",
    "weights = None\n",
    "current_grid_size = 5\n",
    "current_iterations = 1000"
   ]
  },
  {
   "cell_type": "code",
   "execution_count": 8,
   "id": "01J9WBTKVYHRS5JSAEJP5E278F",
   "metadata": {},
   "outputs": [],
   "source": [
    "\n",
    "from utils.eta_function import str_to_eta_function\n",
    "from utils.radius_function import str_to_radius_function\n",
    "from utils.similarity_function import str_to_similarity_function\n",
    "\n",
    "som = Kohonen(\n",
    "    data=data,\n",
    "    grid_size=current_grid_size,\n",
    "    learning_rate=config['kohonen']['learning_rate'],\n",
    "    eta_function=str_to_eta_function(config['kohonen']['eta_function']),\n",
    "    radius=config['kohonen']['initial_radius'],\n",
    "    radius_function=str_to_radius_function(config['kohonen']['radius_function']),\n",
    "    similarity_function=str_to_similarity_function(config['kohonen']['similarity_function']),\n",
    "    seed=config['kohonen']['seed'],\n",
    "    weights=weights\n",
    ")\n",
    "\n",
    "som.train(current_iterations)"
   ]
  },
  {
   "cell_type": "markdown",
   "metadata": {},
   "source": [
    "Ahora vamos a graficar la distancia promedio entre neuronas vecinas en un heatmap utilizando los pesos de la red de Kohonen."
   ]
  },
  {
   "cell_type": "code",
   "execution_count": 9,
   "metadata": {},
   "outputs": [
    {
     "data": {
      "image/png": "[encoded data removed]",
      "text/plain": [
       "<Figure size 640x480 with 2 Axes>"
      ]
     },
     "metadata": {},
     "output_type": "display_data"
    }
   ],
   "source": [
    "import matplotlib.pyplot as plt\n",
    "import numpy as np\n",
    "from sklearn.preprocessing import StandardScaler\n",
    "from matplotlib.patches import Patch\n",
    "from matplotlib.lines import Line2D\n",
    "from core.kohonen import Kohonen\n",
    "\n",
    "def plot_U_matrix(som: Kohonen, cmap='bone'):\n",
    "    plt.figure()\n",
    "    plt.title('U-matrix')\n",
    "    plt.imshow(som.calculate_umatrix(), cmap=cmap) # cmap is the color map\n",
    "    plt.colorbar()\n",
    "    plt.show()\n",
    "\n",
    "\n",
    "plot_U_matrix(som)\n"
   ]
  },
  {
   "cell_type": "markdown",
   "metadata": {},
   "source": [
    "La Matriz U nos dice cuánto se parecen las neuronas entre sí. Si la distancia promedio entre neuronas vecinas es baja, entonces las neuronas son muy parecidas entre sí. Si la distancia promedio entre neuronas vecinas es alta, entonces las neuronas son muy diferentes entre sí."
   ]
  },
  {
   "cell_type": "markdown",
   "metadata": {},
   "source": [
    "La distancia para cada feature ya está graficada en el archivo ej1_kohonen.ipynb."
   ]
  }
 ],
 "metadata": {
  "kernelspec": {
   "display_name": "envtp4",
   "language": "python",
   "name": "python3"
  },
  "language_info": {
   "codemirror_mode": {
    "name": "ipython",
    "version": 3
   },
   "file_extension": ".py",
   "mimetype": "text/x-python",
   "name": "python",
   "nbconvert_exporter": "python",
   "pygments_lexer": "ipython3",
   "version": "3.12.7"
  }
 },
 "nbformat": 4,
 "nbformat_minor": 2
}
