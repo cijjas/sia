{
 "cells": [
  {
   "cell_type": "code",
   "execution_count": 1,
   "metadata": {},
   "outputs": [
    {
     "data": {
      "image/png": "[encoded data removed]",
      "text/plain": [
       "<Figure size 1000x300 with 3 Axes>"
      ]
     },
     "metadata": {},
     "output_type": "display_data"
    }
   ],
   "source": [
    "import matplotlib.pyplot as plt\n",
    "import numpy as np\n",
    "\n",
    "def prepare_mnist_data_local():\n",
    "    \"\"\"\n",
    "    Prepares the MNIST dataset for training and visualization using a local .npz file.\n",
    "    \"\"\"\n",
    "    # Load MNIST dataset from local file\n",
    "    data = np.load(\"../data/mnist.npz\")\n",
    "    x_train, y_train = data[\"x_train\"], data[\"y_train\"]\n",
    "    x_test, y_test = data[\"x_test\"], data[\"y_test\"]\n",
    "\n",
    "    \n",
    "    # Normalize the images between 0 and 1\n",
    "    x_visual = x_train.astype(\"float32\") / 255.0  # For visualization purposes\n",
    "    x_train = x_train.reshape(-1, 28 * 28).astype(\"float32\") / 255\n",
    "    x_test = x_test.reshape(-1, 28 * 28).astype(\"float32\") / 255\n",
    "\n",
    "    # Create training and test pairs without labels (unsupervised learning)\n",
    "    training_data = [(x.reshape(784, 1),x.reshape(784, 1) ) for x in x_train]\n",
    "    test_data = [(x.reshape(784, 1),x.reshape(784, 1) ) for x in x_test]\n",
    "\n",
    "    return training_data, test_data, x_visual\n",
    "\n",
    "# Load the training, test data, and visual data\n",
    "training_data, test_data, x_visual = prepare_mnist_data_local()\n",
    "\n",
    "# Pick 3 random indices\n",
    "random_indices = np.random.choice(len(x_visual), 3, replace=False)\n",
    "\n",
    "# Plot the images\n",
    "plt.figure(figsize=(10, 3))\n",
    "for i, idx in enumerate(random_indices):\n",
    "    plt.subplot(1, 3, i + 1)\n",
    "    plt.imshow(x_visual[idx], cmap=\"gray\")\n",
    "    plt.title(f\"Sample {idx}\")\n",
    "    plt.axis(\"off\")\n",
    "\n",
    "plt.tight_layout()\n",
    "plt.show()\n"
   ]
  },
  {
   "cell_type": "code",
   "execution_count": 2,
   "metadata": {},
   "outputs": [],
   "source": [
    "if 0>1:\n",
    "    import os\n",
    "    import numpy as np\n",
    "    import pickle\n",
    "    import matplotlib.pyplot as plt\n",
    "    from keras.datasets import cifar10\n",
    "\n",
    "    def download_and_prepare_cifar10():\n",
    "        \"\"\"\n",
    "        Downloads CIFAR-10 and saves it as a local .npz file in ../data/.\n",
    "        If already downloaded, it loads it from the local file.\n",
    "        \"\"\"\n",
    "        cifar_path = \"../data/cifar10.npz\"\n",
    "        if not os.path.exists(cifar_path):\n",
    "            # Download CIFAR-10\n",
    "            (x_train, y_train), (x_test, y_test) = cifar10.load_data()\n",
    "\n",
    "            # Save as .npz\n",
    "            np.savez(cifar_path, x_train=x_train, y_train=y_train, x_test=x_test, y_test=y_test)\n",
    "            print(f\"CIFAR-10 downloaded and saved to {cifar_path}\")\n",
    "        else:\n",
    "            print(f\"Loading CIFAR-10 from {cifar_path}\")\n",
    "        \n",
    "        # Load the dataset\n",
    "        data = np.load(cifar_path)\n",
    "        x_train, y_train = data[\"x_train\"], data[\"y_train\"]\n",
    "        x_test, y_test = data[\"x_test\"], data[\"y_test\"]\n",
    "\n",
    "        # Normalize for visualization and training\n",
    "        x_visual = x_train.astype(\"float32\") / 255.0  # For visualization\n",
    "        x_train = x_train.reshape(-1, 32 * 32 * 3).astype(\"float32\") / 255\n",
    "        x_test = x_test.reshape(-1, 32 * 32 * 3).astype(\"float32\") / 255\n",
    "\n",
    "        # Create training and test pairs\n",
    "        training_data = [(x.reshape(-1, 1), x.reshape(-1, 1)) for x in x_train]\n",
    "        test_data = [(x.reshape(-1, 1), x.reshape(-1, 1)) for x in x_test]\n",
    "\n",
    "        return training_data, test_data, x_visual\n",
    "\n",
    "    # Load and visualize CIFAR-10 data\n",
    "    training_data, test_data, x_visual = download_and_prepare_cifar10()\n",
    "    random_indices = np.random.choice(len(x_visual), 3, replace=False)\n",
    "\n",
    "    plt.figure(figsize=(10, 3))\n",
    "    for i, idx in enumerate(random_indices):\n",
    "        plt.subplot(1, 3, i + 1)\n",
    "        plt.imshow(x_visual[idx])\n",
    "        plt.title(f\"Sample {idx}\")\n",
    "        plt.axis(\"off\")\n",
    "\n",
    "    plt.tight_layout()\n",
    "    plt.show()\n"
   ]
  },
  {
   "cell_type": "code",
   "execution_count": 3,
   "metadata": {},
   "outputs": [],
   "source": [
    "if 0> 1:\n",
    "    from keras.datasets import fashion_mnist\n",
    "\n",
    "    def download_and_prepare_fashion_mnist():\n",
    "        \"\"\"\n",
    "        Downloads Fashion-MNIST and saves it as a local .npz file in ../data/.\n",
    "        If already downloaded, it loads it from the local file.\n",
    "        \"\"\"\n",
    "        fashion_path = \"../data/fashion_mnist.npz\"\n",
    "        if not os.path.exists(fashion_path):\n",
    "            # Download Fashion-MNIST\n",
    "            (x_train, y_train), (x_test, y_test) = fashion_mnist.load_data()\n",
    "\n",
    "            # Save as .npz\n",
    "            np.savez(fashion_path, x_train=x_train, y_train=y_train, x_test=x_test, y_test=y_test)\n",
    "            print(f\"Fashion-MNIST downloaded and saved to {fashion_path}\")\n",
    "        else:\n",
    "            print(f\"Loading Fashion-MNIST from {fashion_path}\")\n",
    "        \n",
    "        # Load the dataset\n",
    "        data = np.load(fashion_path)\n",
    "        x_train, y_train = data[\"x_train\"], data[\"y_train\"]\n",
    "        x_test, y_test = data[\"x_test\"], data[\"y_test\"]\n",
    "\n",
    "        # Normalize for visualization and training\n",
    "        x_visual = x_train.astype(\"float32\") / 255.0  # For visualization\n",
    "        x_train = x_train.reshape(-1, 28 * 28).astype(\"float32\") / 255\n",
    "        x_test = x_test.reshape(-1, 28 * 28).astype(\"float32\") / 255\n",
    "\n",
    "        # Create training and test pairs\n",
    "        training_data = [(x.reshape(-1, 1), x.reshape(-1, 1)) for x in x_train]\n",
    "        test_data = [(x.reshape(-1, 1), x.reshape(-1, 1)) for x in x_test]\n",
    "\n",
    "        return training_data, test_data, x_visual\n",
    "\n",
    "    # Load and visualize Fashion-MNIST data\n",
    "    training_data, test_data, x_visual = download_and_prepare_fashion_mnist()\n",
    "    random_indices = np.random.choice(len(x_visual), 3, replace=False)\n",
    "\n",
    "    plt.figure(figsize=(10, 3))\n",
    "    for i, idx in enumerate(random_indices):\n",
    "        plt.subplot(1, 3, i + 1)\n",
    "        plt.imshow(x_visual[idx], cmap=\"gray\")\n",
    "        plt.title(f\"Sample {idx}\")\n",
    "        plt.axis(\"off\")\n",
    "\n",
    "    plt.tight_layout()\n",
    "    plt.show()\n"
   ]
  },
  {
   "cell_type": "code",
   "execution_count": 4,
   "metadata": {},
   "outputs": [
    {
     "name": "stdout",
     "output_type": "stream",
     "text": [
      "(784, 1)\n"
     ]
    }
   ],
   "source": [
    "print(training_data[0][0].shape)\n"
   ]
  },
  {
   "cell_type": "code",
   "execution_count": 5,
   "metadata": {},
   "outputs": [
    {
     "name": "stdout",
     "output_type": "stream",
     "text": [
      "Epoch 1/20 complete with average loss: 222.14532057552034\n",
      "Epoch 2/20 complete with average loss: 171.0742733916268\n",
      "Epoch 3/20 complete with average loss: 159.54615927348792\n",
      "Epoch 4/20 complete with average loss: 153.978003669124\n",
      "Epoch 5/20 complete with average loss: 150.58303282450598\n",
      "Epoch 6/20 complete with average loss: 147.9382666553793\n",
      "Epoch 7/20 complete with average loss: 145.99451560801202\n"
     ]
    },
    {
     "ename": "KeyboardInterrupt",
     "evalue": "",
     "output_type": "error",
     "traceback": [
      "\u001b[0;31m---------------------------------------------------------------------------\u001b[0m",
      "\u001b[0;31mKeyboardInterrupt\u001b[0m                         Traceback (most recent call last)",
      "Cell \u001b[0;32mIn[5], line 41\u001b[0m\n\u001b[1;32m     31\u001b[0m vae \u001b[38;5;241m=\u001b[39m VAE(\n\u001b[1;32m     32\u001b[0m     seed\u001b[38;5;241m=\u001b[39m\u001b[38;5;241m42\u001b[39m,\n\u001b[1;32m     33\u001b[0m     encoder_topology\u001b[38;5;241m=\u001b[39mencoder_topology,\n\u001b[0;32m   (...)\u001b[0m\n\u001b[1;32m     37\u001b[0m     decoder_optimizer\u001b[38;5;241m=\u001b[39mdecoder_optimizer\n\u001b[1;32m     38\u001b[0m )\n\u001b[1;32m     40\u001b[0m \u001b[38;5;66;03m# Train the model\u001b[39;00m\n\u001b[0;32m---> 41\u001b[0m \u001b[43mvae\u001b[49m\u001b[38;5;241;43m.\u001b[39;49m\u001b[43mfit\u001b[49m\u001b[43m(\u001b[49m\n\u001b[1;32m     42\u001b[0m \u001b[43m    \u001b[49m\u001b[43mtraining_data\u001b[49m\u001b[38;5;241;43m=\u001b[39;49m\u001b[43mtraining_data\u001b[49m\u001b[43m,\u001b[49m\n\u001b[1;32m     43\u001b[0m \u001b[43m    \u001b[49m\u001b[43mepochs\u001b[49m\u001b[38;5;241;43m=\u001b[39;49m\u001b[38;5;241;43m20\u001b[39;49m\u001b[43m,\u001b[49m\u001b[43m  \u001b[49m\u001b[38;5;66;43;03m# Adjust epochs as needed\u001b[39;49;00m\n\u001b[1;32m     44\u001b[0m \u001b[43m    \u001b[49m\u001b[43mmini_batch_size\u001b[49m\u001b[38;5;241;43m=\u001b[39;49m\u001b[38;5;241;43m16\u001b[39;49m\u001b[43m,\u001b[49m\n\u001b[1;32m     45\u001b[0m \u001b[43m)\u001b[49m\n\u001b[1;32m     47\u001b[0m \u001b[38;5;66;03m# Select a test sample\u001b[39;00m\n\u001b[1;32m     48\u001b[0m test_sample, _ \u001b[38;5;241m=\u001b[39m test_data[\u001b[38;5;241m0\u001b[39m]\n",
      "File \u001b[0;32m~/Desktop/itba/2024C2/sia/tps/sia/tp5/src/core/vae.py:308\u001b[0m, in \u001b[0;36mVAE.fit\u001b[0;34m(self, training_data, epochs, mini_batch_size)\u001b[0m\n\u001b[1;32m    306\u001b[0m epoch_loss \u001b[38;5;241m=\u001b[39m \u001b[38;5;241m0\u001b[39m\n\u001b[1;32m    307\u001b[0m \u001b[38;5;28;01mfor\u001b[39;00m mini_batch \u001b[38;5;129;01min\u001b[39;00m mini_batches:\n\u001b[0;32m--> 308\u001b[0m     avg_loss \u001b[38;5;241m=\u001b[39m \u001b[38;5;28;43mself\u001b[39;49m\u001b[38;5;241;43m.\u001b[39;49m\u001b[43mupdate_weights_and_biases\u001b[49m\u001b[43m(\u001b[49m\u001b[43mmini_batch\u001b[49m\u001b[43m)\u001b[49m\n\u001b[1;32m    309\u001b[0m     epoch_loss \u001b[38;5;241m+\u001b[39m\u001b[38;5;241m=\u001b[39m avg_loss \u001b[38;5;241m*\u001b[39m \u001b[38;5;28mlen\u001b[39m(mini_batch)\n\u001b[1;32m    310\u001b[0m epoch_avg_loss \u001b[38;5;241m=\u001b[39m epoch_loss \u001b[38;5;241m/\u001b[39m n\n",
      "File \u001b[0;32m~/Desktop/itba/2024C2/sia/tps/sia/tp5/src/core/vae.py:247\u001b[0m, in \u001b[0;36mVAE.update_weights_and_biases\u001b[0;34m(self, mini_batch)\u001b[0m\n\u001b[1;32m    239\u001b[0m total_loss \u001b[38;5;241m+\u001b[39m\u001b[38;5;241m=\u001b[39m loss\n\u001b[1;32m    241\u001b[0m \u001b[38;5;66;03m# Backpropagation\u001b[39;00m\n\u001b[1;32m    242\u001b[0m (\n\u001b[1;32m    243\u001b[0m     delta_nabla_b_encoder,\n\u001b[1;32m    244\u001b[0m     delta_nabla_w_encoder,\n\u001b[1;32m    245\u001b[0m     delta_nabla_b_decoder,\n\u001b[1;32m    246\u001b[0m     delta_nabla_w_decoder,\n\u001b[0;32m--> 247\u001b[0m ) \u001b[38;5;241m=\u001b[39m \u001b[38;5;28;43mself\u001b[39;49m\u001b[38;5;241;43m.\u001b[39;49m\u001b[43mbackpropagation\u001b[49m\u001b[43m(\u001b[49m\n\u001b[1;32m    248\u001b[0m \u001b[43m    \u001b[49m\u001b[43mx_batch\u001b[49m\u001b[43m,\u001b[49m\n\u001b[1;32m    249\u001b[0m \u001b[43m    \u001b[49m\u001b[43mrecon_x\u001b[49m\u001b[43m,\u001b[49m\n\u001b[1;32m    250\u001b[0m \u001b[43m    \u001b[49m\u001b[43mmu\u001b[49m\u001b[43m,\u001b[49m\n\u001b[1;32m    251\u001b[0m \u001b[43m    \u001b[49m\u001b[43mlog_var\u001b[49m\u001b[43m,\u001b[49m\n\u001b[1;32m    252\u001b[0m \u001b[43m    \u001b[49m\u001b[43mz\u001b[49m\u001b[43m,\u001b[49m\n\u001b[1;32m    253\u001b[0m \u001b[43m    \u001b[49m\u001b[43mepsilon\u001b[49m\u001b[43m,\u001b[49m\n\u001b[1;32m    254\u001b[0m \u001b[43m    \u001b[49m\u001b[43mencoder_activations\u001b[49m\u001b[43m,\u001b[49m\n\u001b[1;32m    255\u001b[0m \u001b[43m    \u001b[49m\u001b[43mencoder_zs\u001b[49m\u001b[43m,\u001b[49m\n\u001b[1;32m    256\u001b[0m \u001b[43m    \u001b[49m\u001b[43mdecoder_activations\u001b[49m\u001b[43m,\u001b[49m\n\u001b[1;32m    257\u001b[0m \u001b[43m    \u001b[49m\u001b[43mdecoder_zs\u001b[49m\u001b[43m,\u001b[49m\n\u001b[1;32m    258\u001b[0m \u001b[43m\u001b[49m\u001b[43m)\u001b[49m\n\u001b[1;32m    260\u001b[0m \u001b[38;5;66;03m# Accumulate gradients\u001b[39;00m\n\u001b[1;32m    261\u001b[0m nabla_b_encoder \u001b[38;5;241m=\u001b[39m [\n\u001b[1;32m    262\u001b[0m     nb \u001b[38;5;241m+\u001b[39m dnb \u001b[38;5;28;01mfor\u001b[39;00m nb, dnb \u001b[38;5;129;01min\u001b[39;00m \u001b[38;5;28mzip\u001b[39m(nabla_b_encoder, delta_nabla_b_encoder)\n\u001b[1;32m    263\u001b[0m ]\n",
      "File \u001b[0;32m~/Desktop/itba/2024C2/sia/tps/sia/tp5/src/core/vae.py:152\u001b[0m, in \u001b[0;36mVAE.backpropagation\u001b[0;34m(self, x, recon_x, mu, log_var, z, epsilon, encoder_activations, encoder_zs, decoder_activations, decoder_zs)\u001b[0m\n\u001b[1;32m    137\u001b[0m \u001b[38;5;28;01mdef\u001b[39;00m \u001b[38;5;21mbackpropagation\u001b[39m(\n\u001b[1;32m    138\u001b[0m     \u001b[38;5;28mself\u001b[39m,\n\u001b[1;32m    139\u001b[0m     x,\n\u001b[0;32m   (...)\u001b[0m\n\u001b[1;32m    149\u001b[0m ):\n\u001b[1;32m    150\u001b[0m     \u001b[38;5;66;03m# Initialize gradients\u001b[39;00m\n\u001b[1;32m    151\u001b[0m     nabla_b_encoder \u001b[38;5;241m=\u001b[39m [np\u001b[38;5;241m.\u001b[39mzeros_like(b) \u001b[38;5;28;01mfor\u001b[39;00m b \u001b[38;5;129;01min\u001b[39;00m \u001b[38;5;28mself\u001b[39m\u001b[38;5;241m.\u001b[39mbiases_encoder]\n\u001b[0;32m--> 152\u001b[0m     nabla_w_encoder \u001b[38;5;241m=\u001b[39m [\u001b[43mnp\u001b[49m\u001b[38;5;241;43m.\u001b[39;49m\u001b[43mzeros_like\u001b[49m\u001b[43m(\u001b[49m\u001b[43mw\u001b[49m\u001b[43m)\u001b[49m \u001b[38;5;28;01mfor\u001b[39;00m w \u001b[38;5;129;01min\u001b[39;00m \u001b[38;5;28mself\u001b[39m\u001b[38;5;241m.\u001b[39mweights_encoder]\n\u001b[1;32m    154\u001b[0m     nabla_b_decoder \u001b[38;5;241m=\u001b[39m [np\u001b[38;5;241m.\u001b[39mzeros_like(b) \u001b[38;5;28;01mfor\u001b[39;00m b \u001b[38;5;129;01min\u001b[39;00m \u001b[38;5;28mself\u001b[39m\u001b[38;5;241m.\u001b[39mbiases_decoder]\n\u001b[1;32m    155\u001b[0m     nabla_w_decoder \u001b[38;5;241m=\u001b[39m [np\u001b[38;5;241m.\u001b[39mzeros_like(w) \u001b[38;5;28;01mfor\u001b[39;00m w \u001b[38;5;129;01min\u001b[39;00m \u001b[38;5;28mself\u001b[39m\u001b[38;5;241m.\u001b[39mweights_decoder]\n",
      "File \u001b[0;32m~/Desktop/itba/2024C2/sia/tps/sia5/lib/python3.12/site-packages/numpy/_core/numeric.py:139\u001b[0m, in \u001b[0;36mzeros_like\u001b[0;34m(a, dtype, order, subok, shape, device)\u001b[0m\n\u001b[1;32m    137\u001b[0m \u001b[38;5;66;03m# needed instead of a 0 to get same result as zeros for string dtypes\u001b[39;00m\n\u001b[1;32m    138\u001b[0m z \u001b[38;5;241m=\u001b[39m zeros(\u001b[38;5;241m1\u001b[39m, dtype\u001b[38;5;241m=\u001b[39mres\u001b[38;5;241m.\u001b[39mdtype)\n\u001b[0;32m--> 139\u001b[0m \u001b[43mmultiarray\u001b[49m\u001b[38;5;241;43m.\u001b[39;49m\u001b[43mcopyto\u001b[49m\u001b[43m(\u001b[49m\u001b[43mres\u001b[49m\u001b[43m,\u001b[49m\u001b[43m \u001b[49m\u001b[43mz\u001b[49m\u001b[43m,\u001b[49m\u001b[43m \u001b[49m\u001b[43mcasting\u001b[49m\u001b[38;5;241;43m=\u001b[39;49m\u001b[38;5;124;43m'\u001b[39;49m\u001b[38;5;124;43munsafe\u001b[39;49m\u001b[38;5;124;43m'\u001b[39;49m\u001b[43m)\u001b[49m\n\u001b[1;32m    140\u001b[0m \u001b[38;5;28;01mreturn\u001b[39;00m res\n",
      "\u001b[0;31mKeyboardInterrupt\u001b[0m: "
     ]
    }
   ],
   "source": [
    "import numpy as np\n",
    "import matplotlib.pyplot as plt\n",
    "\n",
    "from core.activation_function import ActivationFunction\n",
    "from core.optimizer import Optimizer\n",
    "from core.vae import VAE\n",
    "\n",
    "# Define the encoder and decoder topologies\n",
    "latent_dim = 8 # Size of the latent space\n",
    "encoder_topology = [28*28, 256, 128, 2 * latent_dim]\n",
    "decoder_topology = [latent_dim, 128, 256, 28*28]\n",
    "\n",
    "\n",
    "# Configure separate optimizers for encoder and decoder\n",
    "encoder_optimizer = Optimizer(\n",
    "    method=\"adam\",\n",
    "    eta=0.001  # Learning rate\n",
    ")\n",
    "\n",
    "decoder_optimizer = Optimizer(\n",
    "    method=\"adam\",\n",
    "    eta=0.001  # Learning rate\n",
    ")\n",
    "\n",
    "# Configure the activation function\n",
    "activation_function = ActivationFunction(\n",
    "    method=\"relu\"\n",
    ")\n",
    "\n",
    "# Create the VAE model\n",
    "vae = VAE(\n",
    "    seed=42,\n",
    "    encoder_topology=encoder_topology,\n",
    "    decoder_topology=decoder_topology,\n",
    "    activation_function=activation_function,\n",
    "    encoder_optimizer=encoder_optimizer,\n",
    "    decoder_optimizer=decoder_optimizer\n",
    ")\n",
    "\n",
    "# Train the model\n",
    "vae.fit(\n",
    "    training_data=training_data,\n",
    "    epochs=20,  # Adjust epochs as needed\n",
    "    mini_batch_size=16,\n",
    ")\n",
    "\n",
    "# Select a test sample\n",
    "test_sample, _ = test_data[0]\n",
    "recon_x, _, _, _, _, _, _, _, _ = vae.feedforward(test_sample)\n",
    "\n",
    "# Visualize the original and reconstructed images\n",
    "plt.figure(figsize=(4, 2))\n",
    "plt.subplot(1, 2, 1)\n",
    "plt.imshow(test_sample.reshape(28, 28), cmap=\"gray\")\n",
    "plt.title(\"Original\")\n",
    "plt.axis(\"off\")\n",
    "\n",
    "plt.subplot(1, 2, 2)\n",
    "plt.imshow(recon_x.reshape(28, 28), cmap=\"gray\")\n",
    "plt.title(\"Reconstructed\")\n",
    "plt.axis(\"off\")\n",
    "\n",
    "plt.show()\n"
   ]
  },
  {
   "cell_type": "code",
   "execution_count": 25,
   "metadata": {},
   "outputs": [
    {
     "data": {
      "image/png": "[encoded data removed]",
      "text/plain": [
       "<Figure size 400x200 with 2 Axes>"
      ]
     },
     "metadata": {},
     "output_type": "display_data"
    }
   ],
   "source": [
    "test_sample, _ = test_data[4]\n",
    "recon_x, _, _, _, _, _, _, _, _ = vae.feedforward(test_sample)\n",
    "\n",
    "\n",
    "# Visualize the original and reconstructed images\n",
    "plt.figure(figsize=(4, 2))\n",
    "\n",
    "# Original image\n",
    "plt.subplot(1, 2, 1)\n",
    "plt.imshow(test_sample.reshape(28, 28))  # Reshape for CIFAR-10\n",
    "plt.title(\"Original\")\n",
    "plt.axis(\"off\")\n",
    "\n",
    "# Reconstructed image\n",
    "plt.subplot(1, 2, 2)\n",
    "plt.imshow(recon_x.reshape(28, 28))  # Reshape for CIFAR-10\n",
    "plt.title(\"Reconstructed\")\n",
    "plt.axis(\"off\")\n",
    "\n",
    "plt.tight_layout()\n",
    "plt.show()\n"
   ]
  },
  {
   "cell_type": "code",
   "execution_count": 18,
   "metadata": {},
   "outputs": [
    {
     "data": {
      "image/png": "[encoded data removed]",
      "text/plain": [
       "<Figure size 600x300 with 2 Axes>"
      ]
     },
     "metadata": {},
     "output_type": "display_data"
    },
    {
     "data": {
      "image/png": "[encoded data removed]",
      "text/plain": [
       "<Figure size 300x300 with 1 Axes>"
      ]
     },
     "metadata": {},
     "output_type": "display_data"
    }
   ],
   "source": [
    "# Usamos un ejemplo del conjunto de test para feedforward\n",
    "test_sample, _ = test_data[0]\n",
    "\n",
    "# Pasar el test_sample por el modelo VAE\n",
    "recon_x, mu, log_var, z, epsilon, _, _, _, _ = vae.feedforward(test_sample)\n",
    "\n",
    "# Visualizar la imagen original y la reconstruida\n",
    "plt.figure(figsize=(6, 3))\n",
    "\n",
    "# Imagen original\n",
    "plt.subplot(1, 2, 1)\n",
    "plt.imshow(test_sample.reshape(28, 28), cmap=\"gray\")\n",
    "plt.title(\"Original\")\n",
    "plt.axis(\"off\")\n",
    "\n",
    "# Imagen reconstruida\n",
    "plt.subplot(1, 2, 2)\n",
    "plt.imshow(recon_x.reshape(28, 28), cmap=\"gray\")\n",
    "plt.title(\"Reconstruido\")\n",
    "plt.axis(\"off\")\n",
    "\n",
    "plt.tight_layout()\n",
    "plt.show()\n",
    "\n",
    "# Generar una nueva imagen aleatoria desde el espacio latente\n",
    "z_random = np.random.normal(size=(vae.latent_dim, 1))  # Vector aleatorio en el espacio latente\n",
    "generated_x, _, _ = vae.decode(z_random)  # Decodificar desde el vector latente\n",
    "\n",
    "# Visualizar la imagen generada\n",
    "plt.figure(figsize=(3, 3))\n",
    "plt.imshow(generated_x.reshape(28, 28), cmap=\"gray\")\n",
    "plt.title(\"Generado\")\n",
    "plt.axis(\"off\")\n",
    "plt.show()\n"
   ]
  },
  {
   "cell_type": "code",
   "execution_count": null,
   "metadata": {},
   "outputs": [
    {
     "ename": "AttributeError",
     "evalue": "'VAE' object has no attribute 'generate'",
     "output_type": "error",
     "traceback": [
      "\u001b[0;31m---------------------------------------------------------------------------\u001b[0m",
      "\u001b[0;31mAttributeError\u001b[0m                            Traceback (most recent call last)",
      "Cell \u001b[0;32mIn[5], line 5\u001b[0m\n\u001b[1;32m      3\u001b[0m \u001b[38;5;66;03m# Generar una nueva muestra aleatoria del espacio latente\u001b[39;00m\n\u001b[1;32m      4\u001b[0m z \u001b[38;5;241m=\u001b[39m np\u001b[38;5;241m.\u001b[39mrandom\u001b[38;5;241m.\u001b[39mnormal(size\u001b[38;5;241m=\u001b[39m(\u001b[38;5;241m2\u001b[39m, \u001b[38;5;241m1\u001b[39m))  \u001b[38;5;66;03m# Dimensión del espacio latente = 2\u001b[39;00m\n\u001b[0;32m----> 5\u001b[0m new_sample \u001b[38;5;241m=\u001b[39m \u001b[43mvae\u001b[49m\u001b[38;5;241;43m.\u001b[39;49m\u001b[43mgenerate\u001b[49m(z)\n\u001b[1;32m      7\u001b[0m \u001b[38;5;66;03m# Reconstruir la imagen para visualizarla\u001b[39;00m\n\u001b[1;32m      8\u001b[0m new_sample_image \u001b[38;5;241m=\u001b[39m new_sample\u001b[38;5;241m.\u001b[39mreshape(\u001b[38;5;241m28\u001b[39m, \u001b[38;5;241m28\u001b[39m)\n",
      "\u001b[0;31mAttributeError\u001b[0m: 'VAE' object has no attribute 'generate'"
     ]
    }
   ],
   "source": [
    "import matplotlib.pyplot as plt\n",
    "\n",
    "# Generar una nueva muestra aleatoria del espacio latente\n",
    "z = np.random.normal(size=(2, 1))  # Dimensión del espacio latente = 2\n",
    "new_sample = vae.generate(z)\n",
    "\n",
    "# Reconstruir la imagen para visualizarla\n",
    "new_sample_image = new_sample.reshape(28, 28)\n",
    "\n",
    "# Mostrar la imagen generada\n",
    "plt.imshow(new_sample_image, cmap='gray')\n",
    "plt.title(\"Imagen generada\")\n",
    "plt.axis('off')\n",
    "plt.show()\n"
   ]
  },
  {
   "cell_type": "code",
   "execution_count": null,
   "metadata": {},
   "outputs": [],
   "source": [
    "# Tomar algunas imágenes del conjunto de prueba\n",
    "test_samples = x_test[:10]\n",
    "\n",
    "# Reconstruir las imágenes\n",
    "reconstructed_samples = [vae.feedforward(x)[0] for x in test_samples]\n",
    "\n",
    "# Mostrar las originales y las reconstruidas\n",
    "fig, axes = plt.subplots(2, 10, figsize=(15, 3))\n",
    "\n",
    "for i in range(10):\n",
    "    # Mostrar la imagen original\n",
    "    axes[0, i].imshow(test_samples[i].reshape(28, 28), cmap='gray')\n",
    "    axes[0, i].axis('off')\n",
    "\n",
    "    # Mostrar la imagen reconstruida\n",
    "    axes[1, i].imshow(reconstructed_samples[i].reshape(28, 28), cmap='gray')\n",
    "    axes[1, i].axis('off')\n",
    "\n",
    "axes[0, 0].set_title(\"Originales\")\n",
    "axes[1, 0].set_title(\"Reconstruidas\")\n",
    "plt.show()\n"
   ]
  },
  {
   "cell_type": "code",
   "execution_count": null,
   "metadata": {},
   "outputs": [],
   "source": [
    "total_loss = 0\n",
    "reconstruction_loss = 0\n",
    "kl_divergence = 0\n",
    "\n",
    "for x in x_test:\n",
    "    recon_x, mu, log_var, _, _ = vae.feedforward(x)\n",
    "    loss, rec_loss, kl_loss = vae.cost_function(x, recon_x, mu, log_var)\n",
    "    total_loss += loss\n",
    "    reconstruction_loss += rec_loss\n",
    "    kl_divergence += kl_loss\n",
    "\n",
    "n = len(x_test)\n",
    "print(f\"Pérdida total promedio: {total_loss / n}\")\n",
    "print(f\"Pérdida de reconstrucción promedio: {reconstruction_loss / n}\")\n",
    "print(f\"Divergencia KL promedio: {kl_divergence / n}\")\n"
   ]
  },
  {
   "cell_type": "code",
   "execution_count": null,
   "metadata": {},
   "outputs": [],
   "source": [
    "latent_points = []\n",
    "labels = []\n",
    "\n",
    "# Mapear las imágenes del conjunto de prueba al espacio latente\n",
    "for x in x_test[:1000]:\n",
    "    _, mu, _, _, _ = vae.feedforward(x)\n",
    "    latent_points.append(mu)\n",
    "    labels.append(np.argmax(x))  # Opcional: etiqueta de clase para colorear\n",
    "\n",
    "latent_points = np.array(latent_points)\n",
    "\n",
    "# Graficar el espacio latente\n",
    "plt.scatter(latent_points[:, 0], latent_points[:, 1], c=labels, cmap='viridis', alpha=0.5)\n",
    "plt.colorbar()\n",
    "plt.title(\"Representación en el espacio latente\")\n",
    "plt.xlabel(\"Latente 1\")\n",
    "plt.ylabel(\"Latente 2\")\n",
    "plt.show()\n"
   ]
  },
  {
   "cell_type": "code",
   "execution_count": null,
   "metadata": {},
   "outputs": [],
   "source": [
    "# Definir dos puntos en el espacio latente\n",
    "z1 = np.array([[-1.0], [-1.0]])\n",
    "z2 = np.array([[1.0], [1.0]])\n",
    "\n",
    "# Generar interpolación lineal\n",
    "interpolations = [z1 + (z2 - z1) * t for t in np.linspace(0, 1, num=10)]\n",
    "\n",
    "# Reconstruir y mostrar las imágenes correspondientes\n",
    "fig, axes = plt.subplots(1, 10, figsize=(15, 3))\n",
    "\n",
    "for i, z in enumerate(interpolations):\n",
    "    generated_image = vae.generate(z).reshape(28, 28)\n",
    "    axes[i].imshow(generated_image, cmap='gray')\n",
    "    axes[i].axis('off')\n",
    "\n",
    "plt.title(\"Interpolación en el espacio latente\")\n",
    "plt.show()\n"
   ]
  }
 ],
 "metadata": {
  "kernelspec": {
   "display_name": "sia5",
   "language": "python",
   "name": "python3"
  },
  "language_info": {
   "codemirror_mode": {
    "name": "ipython",
    "version": 3
   },
   "file_extension": ".py",
   "mimetype": "text/x-python",
   "name": "python",
   "nbconvert_exporter": "python",
   "pygments_lexer": "ipython3",
   "version": "3.12.3"
  }
 },
 "nbformat": 4,
 "nbformat_minor": 2
}
